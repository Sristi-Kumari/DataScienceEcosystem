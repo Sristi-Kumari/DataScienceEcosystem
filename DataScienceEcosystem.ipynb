{
 "cells": [
  {
   "cell_type": "markdown",
   "id": "70dd2233-adb2-437e-8425-9a127f171846",
   "metadata": {},
   "source": [
    "# Data Science Tools and Ecosystem"
   ]
  },
  {
   "cell_type": "markdown",
   "id": "8f9dad34-508c-4b32-a9ad-0d4acee17a80",
   "metadata": {},
   "source": [
    "#### This is Jupyter Notebook which help in implementing in data science tools"
   ]
  },
  {
   "cell_type": "markdown",
   "id": "56b64ae2-ddab-458a-a0db-987a22826d6e",
   "metadata": {
    "tags": []
   },
   "source": [
    "# Some of the popular languages that Data Scientists use are:\n",
    "# 1. Jupyter Notebook\n",
    "# 2. R language\n",
    "# 3. Github\n",
    "# 4. Apache Spark\n",
    "# 5. Deep Learning"
   ]
  },
  {
   "cell_type": "markdown",
   "id": "d1975449-1830-4428-9bfd-6c35922d3777",
   "metadata": {
    "tags": []
   },
   "source": [
    "## Some of the commonly used libraries used by the data scientists:\n",
    "## 1.dplyr\n",
    "## 2.Stringr\n",
    "## 3.ggplot\n",
    "## 4.caret\n",
    "## 5.plotly"
   ]
  },
  {
   "cell_type": "code",
   "execution_count": null,
   "id": "6188c306-5fb2-47db-bf8f-7bfbd3806697",
   "metadata": {},
   "outputs": [],
   "source": [
    "### Below are a few examples of evaluating arithmetic expressions in Python\n",
    "##### + (used for addition)\n",
    "#### - (used for subtraction)\n",
    "#### * (used for multiplication)\n",
    "#### / (used for division)\n"
   ]
  },
  {
   "cell_type": "markdown",
   "id": "88f60cf7-9034-4b7e-9323-97f4b588fee8",
   "metadata": {},
   "source": [
    "|Data Science tools|\n",
    "|------------------|\n",
    "|Jupyter Notebook |\n",
    "|R Language |\n",
    "|Github |"
   ]
  },
  {
   "cell_type": "code",
   "execution_count": 5,
   "id": "f2c9d0f9-35b6-4260-b76d-f2f23a8f02d8",
   "metadata": {
    "tags": []
   },
   "outputs": [
    {
     "name": "stdout",
     "output_type": "stream",
     "text": [
      "17\n"
     ]
    }
   ],
   "source": [
    "# This is arithmetic expression to multiply and then add integers\n",
    "z=(3*4)+5\n",
    "print(z)"
   ]
  },
  {
   "cell_type": "code",
   "execution_count": 8,
   "id": "3a2a7f70-13eb-420b-b0c6-bb54da8acd73",
   "metadata": {
    "tags": []
   },
   "outputs": [
    {
     "name": "stdout",
     "output_type": "stream",
     "text": [
      "200 minutes is equal to approximately 3 hours\n"
     ]
    }
   ],
   "source": [
    "#This will convert 200 minutes to hours by dividing by 60\n",
    "a=200\n",
    "z=200//60\n",
    "print(f\"200 minutes is equal to approximately {z} hours\") "
   ]
  },
  {
   "cell_type": "markdown",
   "id": "8a6e66f9-82b1-4dfd-8c2b-27016b72f223",
   "metadata": {},
   "source": [
    "**Objectives:**\n",
    "#### * List popular languages for data science\n",
    "#### * List popular libraries for data science\n",
    "#### * List of tools for data science"
   ]
  },
  {
   "cell_type": "markdown",
   "id": "52c47b5a-c89e-4bea-804b-61cad3292a51",
   "metadata": {},
   "source": [
    "## Author\n",
    "##### Sristi Kumari"
   ]
  },
  {
   "cell_type": "code",
   "execution_count": null,
   "id": "0fe6b6c0-4601-4f0a-8f5b-48ace847dc26",
   "metadata": {},
   "outputs": [],
   "source": []
  }
 ],
 "metadata": {
  "kernelspec": {
   "display_name": "Python",
   "language": "python",
   "name": "conda-env-python-py"
  },
  "language_info": {
   "codemirror_mode": {
    "name": "ipython",
    "version": 3
   },
   "file_extension": ".py",
   "mimetype": "text/x-python",
   "name": "python",
   "nbconvert_exporter": "python",
   "pygments_lexer": "ipython3",
   "version": "3.7.12"
  }
 },
 "nbformat": 4,
 "nbformat_minor": 5
}
